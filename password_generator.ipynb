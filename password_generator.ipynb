{
  "nbformat": 4,
  "nbformat_minor": 0,
  "metadata": {
    "colab": {
      "provenance": [],
      "gpuType": "T4"
    },
    "kernelspec": {
      "name": "python3",
      "display_name": "Python 3"
    },
    "language_info": {
      "name": "python"
    },
    "accelerator": "GPU"
  },
  "cells": [
    {
      "cell_type": "code",
      "source": [
        "import random\n",
        "import string\n",
        "\n",
        "def generate_password(length, use_symbols=True):\n",
        "    characters = string.ascii_letters + string.digits\n",
        "    if use_symbols:\n",
        "        characters += string.punctuation\n",
        "    password = ''.join(random.choice(characters) for _ in range(length))\n",
        "    return password\n",
        "\n",
        "def main():\n",
        "    print(\"Welcome to the Password Generator!\")\n",
        "\n",
        "    while True:\n",
        "        try:\n",
        "            length = int(input(\"Enter the desired length of the password: \"))\n",
        "            if length <= 0:\n",
        "                raise ValueError(\"The length must be a positive integer.\")\n",
        "            break\n",
        "        except ValueError as e:\n",
        "            print(f\"Invalid input: {e}. Please enter a positive integer.\")\n",
        "\n",
        "    while True:\n",
        "        include_symbols = input(\"Include symbols (y/n)? \").strip().lower()\n",
        "        if include_symbols in ('y', 'n'):\n",
        "            include_symbols = include_symbols == 'y'\n",
        "            break\n",
        "        else:\n",
        "            print(\"Invalid input. Please enter 'y' or 'n'.\")\n",
        "\n",
        "    password = generate_password(length, include_symbols)\n",
        "    print(f\"Generated password: {password}\")\n",
        "\n",
        "if __name__ == \"__main__\":\n",
        "    main()"
      ],
      "metadata": {
        "id": "wzbmyJXEYcqq",
        "outputId": "05a21518-06e4-47ab-8c15-599ba695e48a",
        "colab": {
          "base_uri": "https://localhost:8080/"
        }
      },
      "execution_count": null,
      "outputs": [
        {
          "output_type": "stream",
          "name": "stdout",
          "text": [
            "Welcome to the Password Generator!\n",
            "Enter the desired length of the password: 7\n",
            "Include symbols (y/n)? y\n",
            "Generated password: /gyqPMM\n"
          ]
        }
      ]
    },
    {
      "cell_type": "code",
      "source": [],
      "metadata": {
        "id": "0APRkklbY_vr"
      },
      "execution_count": null,
      "outputs": []
    }
  ]
}